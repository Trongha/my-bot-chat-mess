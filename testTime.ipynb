{
 "cells": [
  {
   "cell_type": "code",
   "execution_count": 64,
   "metadata": {},
   "outputs": [
    {
     "data": {
      "text/plain": [
       "['09', 'Jun', '2019', '02', '56', '27']"
      ]
     },
     "execution_count": 64,
     "metadata": {},
     "output_type": "execute_result"
    }
   ],
   "source": [
    "import time\n",
    "\n",
    "cc = [1560048987002, 1559985989197,1560046804159,1560046068474,1560047945337]\n",
    "# print(cc[1])\n",
    "time.ctime(time.time() - cc[0]/1000)\n",
    "time.strftime(\"%d:%b:%Y:%H:%M:%S\", time.gmtime(cc[0]/1000)).split(':')\n",
    "\n",
    "# time.ctime(cc[1]/100)"
   ]
  },
  {
   "cell_type": "code",
   "execution_count": 6,
   "metadata": {},
   "outputs": [
    {
     "data": {
      "text/plain": [
       "'Sun, 09 Jun 2019 03:06:21 +0000'"
      ]
     },
     "execution_count": 6,
     "metadata": {},
     "output_type": "execute_result"
    }
   ],
   "source": [
    "from time import gmtime, strftime\n",
    "strftime(\"%d:%b:%Y:%H:%M:%S +0000\", gmtime())\n",
    "\n"
   ]
  },
  {
   "cell_type": "code",
   "execution_count": 65,
   "metadata": {},
   "outputs": [
    {
     "name": "stdout",
     "output_type": "stream",
     "text": [
      "('09', 'Jun', '2019', '02', '56', '27')\n"
     ]
    }
   ],
   "source": [
    "def timestampToInt(timestamp):\n",
    "    import time\n",
    "    d,b,y,h,m,s = time.strftime(\"%d:%b:%Y:%H:%M:%S\", time.gmtime(timestamp)).split(':')\n",
    "    return d, b, y, h, m, s\n",
    "\n",
    "print(timestampToInt(cc[0]/1000))\n"
   ]
  },
  {
   "cell_type": "code",
   "execution_count": 70,
   "metadata": {},
   "outputs": [
    {
     "data": {
      "text/plain": [
       "True"
      ]
     },
     "execution_count": 70,
     "metadata": {},
     "output_type": "execute_result"
    }
   ],
   "source": [
    "def timeInMinMaxMinutes(timestamp, minMinutes=2, maxMinutes=5):\n",
    "    import time\n",
    "    d, b, y, h, m, s = timestampToInt(timestamp)\n",
    "    nowD, nowB, nowY, nowH, nowM, nowS = timestampToInt(time.time())\n",
    "    if (d+b+y == nowD+nowB+nowY):\n",
    "        minutes =(60*int(nowH)+int(nowM) - 60*int(h) - int(m))\n",
    "        return (minMinutes < minutes < maxMinutes)\n",
    "\n",
    "timeInMinMaxMinutes(cc[0]/1000, maxMinutes=1000)"
   ]
  }
 ],
 "metadata": {
  "kernelspec": {
   "display_name": "Python 3",
   "language": "python",
   "name": "python3"
  },
  "language_info": {
   "codemirror_mode": {
    "name": "ipython",
    "version": 3
   },
   "file_extension": ".py",
   "mimetype": "text/x-python",
   "name": "python",
   "nbconvert_exporter": "python",
   "pygments_lexer": "ipython3",
   "version": "3.5.4"
  }
 },
 "nbformat": 4,
 "nbformat_minor": 2
}
