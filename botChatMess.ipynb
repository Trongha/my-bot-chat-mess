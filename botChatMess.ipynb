from fbchat import Client
from fbchat.models import *

email = "48e83cca@blurme.net"
passw = "HƠ122333}"

partnerID = "100005128032970"
hienID = "100005935830246"
aichoaiID = "100023348531077"

waitingMessageForHien = "Anh Hà hiện đang ko online, chị chờ chút nhé! \nahihi"

aichoaiSessionCookies = {'sb': 'xCL3XIapCuUTloNItzGlBUwD', 'spin': 'r.1000787156_b.trunk_t.1559700171_s.1_v.2_', 'datr': 'xCL3XCiKt6ofkcf6KaVtpNFV', 'c_user': '100023348531077', 'fr': '1JPYVUgHAVkf3EuFL.AWVV7pgNIyDeEwxzfsxuSO_bqvQ.Bc9yLE.79.AAA.0.0.Bc9yLE.AWUMZk7T', 'noscript': '1', 'xs': '24%3Acd0ahrzwjaHf3A%3A2%3A1559700165%3A13346%3A13373'}
# MainSessionCookies = {'datr':'2p3vW_me5vWqFuyUM4K5-5wi', 'sb':'D57vWxA5EnjB9-lXsY8aWKQi', 'c_user':'100005128032970', 'xs':'3%3A22xIYiTz1NBK3w%3A2%3A1556350235%3A5717%3A6340', 'spin':'r.1000784160_b.trunk_t.1559637403_s.1_v.2_', 'dpr':'1.25', 'act':'1559700339545%2F16', 'fr':'1xFC3r9aRdOyY8Pav.AWX5GCF3reMqsajn51iZMxY4JSc.Bb753a.Hp.Fzx.0.0.Bc9yN1.AWW7lmTt', 'presence':'EDvF3EtimeF1559700347EuserFA21B05128032970A2EstateFDt3F_5b_5dG559700347761CEchFDp_5f1B05128032970F2CC', 'wd':'898x722}
MainSessionCookies = {'sb': 'D57vWxA5EnjB9-lXsY8aWKQi', 'spin': 'r.1000784160_b.trunk_t.1559637403_s.1_v.2_', 'datr': '2p3vW_me5vWqFuyUM4K5-5wi', 'c_user': '100005128032970', 'fr': '1xFC3r9aRdOyY8Pav.AWX5GCF3reMqsajn51iZMxY4JSc.Bb753a.Hp.Fzx.0.0.Bc9yN1.AWW7lmTt', 'noscript': '1', 'xs': '3%3A22xIYiTz1NBK3w%3A2%3A1556350235%3A5717%3A6340'}

# client = Client(email, passw)

# print('Own id: {}'.format(client.uid))

# client.sendMessage('Hi me part2!', thread_id = client.uid, thread_type = ThreadType.USER)

# client.logout()
# 


class EchoBot(Client):
	def onMessage(self, author_id, message, thread_id, thread_type, **kwargs):
		self.markAsDelivered(author_id, thread_id)
		self.markAsRead(author_id)

		if author_id in [hienID, aichoaiID]:
			self.sendMessage(waitingMessageForHien, thread_id=thread_id, thread_type = thread_type)


client = EchoBot("", "", session_cookies = MainSessionCookies)


# client.setSession(MainSessionCookies)

# print(client.getSession())

'''
threadMessages = client.fetchThreadMessages(thread_id = hienID, limit = 15000)

print("threadMessage: \n")
print(len(threadMessages))
# print(threadMessages)
'''
client.listen()
# client.logout()